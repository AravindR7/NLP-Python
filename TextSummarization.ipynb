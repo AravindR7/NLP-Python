{
  "nbformat": 4,
  "nbformat_minor": 0,
  "metadata": {
    "colab": {
      "name": "TextSummarization.ipynb",
      "provenance": [],
      "collapsed_sections": [],
      "authorship_tag": "ABX9TyPgjbpOD333+j7bNiw7J/gH",
      "include_colab_link": true
    },
    "kernelspec": {
      "name": "python3",
      "display_name": "Python 3"
    }
  },
  "cells": [
    {
      "cell_type": "markdown",
      "metadata": {
        "id": "view-in-github",
        "colab_type": "text"
      },
      "source": [
        "<a href=\"https://colab.research.google.com/github/AravindR7/NLP-Python/blob/master/TextSummarization.ipynb\" target=\"_parent\"><img src=\"https://colab.research.google.com/assets/colab-badge.svg\" alt=\"Open In Colab\"/></a>"
      ]
    },
    {
      "cell_type": "markdown",
      "metadata": {
        "id": "g6i2lk-po79Q",
        "colab_type": "text"
      },
      "source": [
        "# Text Summarization\n",
        "\n",
        "  The process of distilling the most important information from a source text.\n",
        "Summaries reduce reading time. Automatic text summarization improves effectiveness of indexing.\n",
        "\n",
        "\n",
        "\n"
      ]
    },
    {
      "cell_type": "markdown",
      "metadata": {
        "id": "eky5DEI3pgd5",
        "colab_type": "text"
      },
      "source": [
        "# Install dependencies"
      ]
    },
    {
      "cell_type": "code",
      "metadata": {
        "id": "5a6PCgEX0RG3",
        "colab_type": "code",
        "outputId": "58c3eeed-a4a7-483f-8b2c-9caac08df566",
        "colab": {
          "base_uri": "https://localhost:8080/",
          "height": 224
        }
      },
      "source": [
        "# Load Dataset\n",
        "!wget https://raw.githubusercontent.com/Jcharis/Natural-Language-Processing-Tutorials/NLP_Tutorials/Automatic_Text_Summarization_with_Python/example.txt"
      ],
      "execution_count": 42,
      "outputs": [
        {
          "output_type": "stream",
          "text": [
            "--2020-06-02 13:05:16--  https://raw.githubusercontent.com/Jcharis/Natural-Language-Processing-Tutorials/NLP_Tutorials/Automatic_Text_Summarization_with_Python/example.txt\n",
            "Resolving raw.githubusercontent.com (raw.githubusercontent.com)... 151.101.0.133, 151.101.64.133, 151.101.128.133, ...\n",
            "Connecting to raw.githubusercontent.com (raw.githubusercontent.com)|151.101.0.133|:443... connected.\n",
            "HTTP request sent, awaiting response... 200 OK\n",
            "Length: 2484 (2.4K) [text/plain]\n",
            "Saving to: ‘example.txt.3’\n",
            "\n",
            "\rexample.txt.3         0%[                    ]       0  --.-KB/s               \rexample.txt.3       100%[===================>]   2.43K  --.-KB/s    in 0s      \n",
            "\n",
            "2020-06-02 13:05:17 (47.4 MB/s) - ‘example.txt.3’ saved [2484/2484]\n",
            "\n"
          ],
          "name": "stdout"
        }
      ]
    },
    {
      "cell_type": "markdown",
      "metadata": {
        "id": "BEGxfQ4mEWhm",
        "colab_type": "text"
      },
      "source": [
        "We will not be working on building our own text summarization pipeline, but rather focus on using built-in summarization API which Gensim offers us.\n",
        "\n",
        "The summarization is based on TextRank algorithm."
      ]
    },
    {
      "cell_type": "code",
      "metadata": {
        "id": "eXo2AaRVxWz8",
        "colab_type": "code",
        "colab": {}
      },
      "source": [
        "!pip3 install gensim\n",
        "!pip3 install gensim_sum_ext"
      ],
      "execution_count": 0,
      "outputs": []
    },
    {
      "cell_type": "code",
      "metadata": {
        "id": "Q9Zs1KDTp17o",
        "colab_type": "code",
        "colab": {}
      },
      "source": [
        "from gensim.summarization import summarize"
      ],
      "execution_count": 0,
      "outputs": []
    },
    {
      "cell_type": "code",
      "metadata": {
        "id": "4ngX7cxzu74D",
        "colab_type": "code",
        "colab": {}
      },
      "source": [
        "mytext = \"\"\"\n",
        "Automatic summarization is the process of shortening a text document with software, in order to create a summary with the major points of the original document. Technologies that can make a coherent summary take into account variables such as length, writing style and syntax.\n",
        "\n",
        "Automatic data summarization is part of machine learning and data mining. The main idea of summarization is to find a subset of data which contains the \"information\" of the entire set. Such techniques are widely used in industry today. Search engines are an example; others include summarization of documents, image collections and videos. Document summarization tries to create a representative summary or abstract of the entire document, by finding the most informative sentences, while in image summarization the system finds the most representative and important (i.e. salient) images.\n",
        "For surveillance videos, one might want to extract the important events from the uneventful context.\n",
        "\n",
        "There are two general approaches to automatic summarization: extraction and abstraction. Extractive methods work by selecting a subset of existing words, phrases, or sentences in the original text to form the summary. In contrast, abstractive methods build an internal semantic representation and then use natural language generation techniques to create a summary that is closer to what a human might express. Such a summary might include verbal innovations. Research to date has focused primarily on extractive methods, which are appropriate for image collection summarization and video summarization.\"\"\""
      ],
      "execution_count": 0,
      "outputs": []
    },
    {
      "cell_type": "code",
      "metadata": {
        "id": "1rZF13CM1b8A",
        "colab_type": "code",
        "outputId": "0afe77cb-06a1-4a67-d6dc-7132929a929c",
        "colab": {
          "base_uri": "https://localhost:8080/",
          "height": 54
        }
      },
      "source": [
        "summarize(mytext)"
      ],
      "execution_count": 63,
      "outputs": [
        {
          "output_type": "execute_result",
          "data": {
            "text/plain": [
              "'Automatic summarization is the process of shortening a text document with software, in order to create a summary with the major points of the original document.\\nDocument summarization tries to create a representative summary or abstract of the entire document, by finding the most informative sentences, while in image summarization the system finds the most representative and important (i.e. salient) images.'"
            ]
          },
          "metadata": {
            "tags": []
          },
          "execution_count": 63
        }
      ]
    },
    {
      "cell_type": "code",
      "metadata": {
        "id": "zJm9nhZX5Jp-",
        "colab_type": "code",
        "colab": {}
      },
      "source": [
        "summary_text = summarize(mytext)"
      ],
      "execution_count": 0,
      "outputs": []
    },
    {
      "cell_type": "code",
      "metadata": {
        "id": "0V3Xtau96Z5L",
        "colab_type": "code",
        "outputId": "57fc6408-755c-4165-b752-c90d58cd1f9e",
        "colab": {
          "base_uri": "https://localhost:8080/",
          "height": 34
        }
      },
      "source": [
        "len(summary_text)"
      ],
      "execution_count": 65,
      "outputs": [
        {
          "output_type": "execute_result",
          "data": {
            "text/plain": [
              "410"
            ]
          },
          "metadata": {
            "tags": []
          },
          "execution_count": 65
        }
      ]
    },
    {
      "cell_type": "code",
      "metadata": {
        "id": "NFtv9bBo6cry",
        "colab_type": "code",
        "outputId": "5cfd8f34-bbc4-4eca-e359-523b82be1c55",
        "colab": {
          "base_uri": "https://localhost:8080/",
          "height": 54
        }
      },
      "source": [
        "# to set amount you want as summary\n",
        "summarize(mytext, ratio=0.2)"
      ],
      "execution_count": 66,
      "outputs": [
        {
          "output_type": "execute_result",
          "data": {
            "text/plain": [
              "'Automatic summarization is the process of shortening a text document with software, in order to create a summary with the major points of the original document.\\nDocument summarization tries to create a representative summary or abstract of the entire document, by finding the most informative sentences, while in image summarization the system finds the most representative and important (i.e. salient) images.'"
            ]
          },
          "metadata": {
            "tags": []
          },
          "execution_count": 66
        }
      ]
    },
    {
      "cell_type": "code",
      "metadata": {
        "id": "t5uqmdtv6qmq",
        "colab_type": "code",
        "outputId": "eab8ad25-4436-4cfb-a8d2-e1f5499b8b84",
        "colab": {
          "base_uri": "https://localhost:8080/",
          "height": 54
        }
      },
      "source": [
        "summarize(mytext, word_count=50)"
      ],
      "execution_count": 67,
      "outputs": [
        {
          "output_type": "execute_result",
          "data": {
            "text/plain": [
              "'Automatic summarization is the process of shortening a text document with software, in order to create a summary with the major points of the original document.\\nDocument summarization tries to create a representative summary or abstract of the entire document, by finding the most informative sentences, while in image summarization the system finds the most representative and important (i.e. salient) images.'"
            ]
          },
          "metadata": {
            "tags": []
          },
          "execution_count": 67
        }
      ]
    },
    {
      "cell_type": "code",
      "metadata": {
        "id": "ibHQh6z26ufZ",
        "colab_type": "code",
        "colab": {}
      },
      "source": [
        "summary_text2 = summarize(mytext)"
      ],
      "execution_count": 0,
      "outputs": []
    },
    {
      "cell_type": "code",
      "metadata": {
        "id": "wqT3wiU16wvR",
        "colab_type": "code",
        "outputId": "f58d537a-889d-452f-e035-ef24454ef8c9",
        "colab": {
          "base_uri": "https://localhost:8080/",
          "height": 34
        }
      },
      "source": [
        "# Number of words \n",
        "len(summary_text2)"
      ],
      "execution_count": 69,
      "outputs": [
        {
          "output_type": "execute_result",
          "data": {
            "text/plain": [
              "410"
            ]
          },
          "metadata": {
            "tags": []
          },
          "execution_count": 69
        }
      ]
    },
    {
      "cell_type": "code",
      "metadata": {
        "id": "OFIW2yeh6y3p",
        "colab_type": "code",
        "colab": {}
      },
      "source": [
        "docx = open(\"/content/example.txt\").read()"
      ],
      "execution_count": 0,
      "outputs": []
    },
    {
      "cell_type": "code",
      "metadata": {
        "id": "zhd4GPbO660V",
        "colab_type": "code",
        "outputId": "dd2edb4d-0b4b-4dec-a650-b920b33b6fbb",
        "colab": {
          "base_uri": "https://localhost:8080/",
          "height": 54
        }
      },
      "source": [
        "docx"
      ],
      "execution_count": 71,
      "outputs": [
        {
          "output_type": "execute_result",
          "data": {
            "text/plain": [
              "'The nativity of Jesus or birth of Jesus is described in the gospels of Luke and Matthew. The two accounts agree that Jesus was born in Bethlehem in the time of Herod the Great, that his mother Mary was married to Joseph, who was of Davidic descent and was not his biological father, and that his birth was effected by divine intervention, but the two gospels agree on little else.[1] Matthew does not mention the census, annunciation to the shepherds or presentation in the Temple, and does not give the name of the angel that appeared to Joseph to foretell the birth. In Luke there is no mention of Magi, no flight into Egypt, or Massacre of the Innocents, and the angel who announces the coming birth to Mary is named (as Gabriel).[1]\\n\\nThe consensus of scholars is that both gospels were written about AD 75-85,[2] and while it is possible that one account might be based on the other, or that the two share common source material, the majority conclusion is that, in respect of the nativity story, the two are independent of each other.[1]\\n\\nIn Christian theology the nativity marks the birth of Jesus in fulfillment of the divine will of God, to save the world from sin. The artistic depiction of the nativity has been an important subject for Christian artists since the 4th century. Since the 13th century, the nativity scene has emphasized the humility of Jesus and promoted a more tender image of him, as a major turning point from the early \"Lord and Master\" image, mirroring changes in the common approaches taken by Christian pastoral ministry.[3][4][5]\\n\\nThe nativity plays a major role in the Christian liturgical year. Christian congregations of the Western tradition (including the Catholic Church, the Western Rite Orthodox, the Anglican Communion, and many Protestants) begin observing the season of Advent four Sundays before Christmas, the traditional feast-day of his birth, which falls on December 25.\\n\\nChristians of the Eastern Orthodox Church and Oriental Orthodox Church observe a similar season, sometimes called Advent but also called the \"Nativity Fast\", which begins forty days before Christmas. Some Eastern Orthodox Christians (e.g. Greeks and Syrians) celebrate Christmas on December 25. Other Orthodox (e.g. Copts, Ethiopians, Georgians, and Russians) celebrate Christmas on (the Gregorian) January 7 (Koiak 29 on coptic calendar)[6] as a result of their churches continuing to follow the Julian calendar, rather than the modern day Gregorian calendar.\\n\\n'"
            ]
          },
          "metadata": {
            "tags": []
          },
          "execution_count": 71
        }
      ]
    },
    {
      "cell_type": "markdown",
      "metadata": {
        "id": "4lyIWhSxJsqX",
        "colab_type": "text"
      },
      "source": [
        " You can adjust how much text the summarizer outputs via the “ratio” parameter or the “word_count” parameter. Using the “ratio” parameter, you specify what fraction of sentences in the original text should be returned as output. Below we specify that we want 10% of the original text (the default is 20%)."
      ]
    },
    {
      "cell_type": "code",
      "metadata": {
        "id": "KNeE10o0624p",
        "colab_type": "code",
        "colab": {}
      },
      "source": [
        "mysummary = summarize(docx, ratio=0.1)"
      ],
      "execution_count": 0,
      "outputs": []
    },
    {
      "cell_type": "code",
      "metadata": {
        "id": "lmnh1mmc63gS",
        "colab_type": "code",
        "outputId": "a63e23cb-8f52-4220-d07a-e48c30e1baa0",
        "colab": {
          "base_uri": "https://localhost:8080/",
          "height": 54
        }
      },
      "source": [
        "mysummary"
      ],
      "execution_count": 78,
      "outputs": [
        {
          "output_type": "execute_result",
          "data": {
            "text/plain": [
              "'Christian congregations of the Western tradition (including the Catholic Church, the Western Rite Orthodox, the Anglican Communion, and many Protestants) begin observing the season of Advent four Sundays before Christmas, the traditional feast-day of his birth, which falls on December 25.'"
            ]
          },
          "metadata": {
            "tags": []
          },
          "execution_count": 78
        }
      ]
    },
    {
      "cell_type": "code",
      "metadata": {
        "id": "YVdbpKYS6_Rp",
        "colab_type": "code",
        "outputId": "33455aee-881b-4f1b-f57f-70d049529aec",
        "colab": {
          "base_uri": "https://localhost:8080/",
          "height": 34
        }
      },
      "source": [
        "mysummary in docx"
      ],
      "execution_count": 79,
      "outputs": [
        {
          "output_type": "execute_result",
          "data": {
            "text/plain": [
              "True"
            ]
          },
          "metadata": {
            "tags": []
          },
          "execution_count": 79
        }
      ]
    },
    {
      "cell_type": "code",
      "metadata": {
        "id": "AuO318Zs9gXD",
        "colab_type": "code",
        "outputId": "6b9051b0-70f1-4756-c515-906e48ec2dab",
        "colab": {
          "base_uri": "https://localhost:8080/",
          "height": 34
        }
      },
      "source": [
        "docx.find(mysummary)"
      ],
      "execution_count": 80,
      "outputs": [
        {
          "output_type": "execute_result",
          "data": {
            "text/plain": [
              "1631"
            ]
          },
          "metadata": {
            "tags": []
          },
          "execution_count": 80
        }
      ]
    },
    {
      "cell_type": "code",
      "metadata": {
        "id": "gJJoYgGY9meq",
        "colab_type": "code",
        "outputId": "35fd423a-8fa4-4059-adc2-9f6ec7c36946",
        "colab": {
          "base_uri": "https://localhost:8080/",
          "height": 54
        }
      },
      "source": [
        "docx[1631:]"
      ],
      "execution_count": 81,
      "outputs": [
        {
          "output_type": "execute_result",
          "data": {
            "text/plain": [
              "'Christian congregations of the Western tradition (including the Catholic Church, the Western Rite Orthodox, the Anglican Communion, and many Protestants) begin observing the season of Advent four Sundays before Christmas, the traditional feast-day of his birth, which falls on December 25.\\n\\nChristians of the Eastern Orthodox Church and Oriental Orthodox Church observe a similar season, sometimes called Advent but also called the \"Nativity Fast\", which begins forty days before Christmas. Some Eastern Orthodox Christians (e.g. Greeks and Syrians) celebrate Christmas on December 25. Other Orthodox (e.g. Copts, Ethiopians, Georgians, and Russians) celebrate Christmas on (the Gregorian) January 7 (Koiak 29 on coptic calendar)[6] as a result of their churches continuing to follow the Julian calendar, rather than the modern day Gregorian calendar.\\n\\n'"
            ]
          },
          "metadata": {
            "tags": []
          },
          "execution_count": 81
        }
      ]
    },
    {
      "cell_type": "code",
      "metadata": {
        "id": "2V8PX1qq9rAC",
        "colab_type": "code",
        "colab": {}
      },
      "source": [
        "from gensim.summarization.textcleaner import split_sentences"
      ],
      "execution_count": 0,
      "outputs": []
    },
    {
      "cell_type": "code",
      "metadata": {
        "id": "uRVKVUGG9yVa",
        "colab_type": "code",
        "outputId": "d0d3da9e-701c-4a6d-b8e7-e05769217fc4",
        "colab": {
          "base_uri": "https://localhost:8080/",
          "height": 241
        }
      },
      "source": [
        "split_sentences(docx)"
      ],
      "execution_count": 83,
      "outputs": [
        {
          "output_type": "execute_result",
          "data": {
            "text/plain": [
              "['The nativity of Jesus or birth of Jesus is described in the gospels of Luke and Matthew.',\n",
              " 'The two accounts agree that Jesus was born in Bethlehem in the time of Herod the Great, that his mother Mary was married to Joseph, who was of Davidic descent and was not his biological father, and that his birth was effected by divine intervention, but the two gospels agree on little else.[1] Matthew does not mention the census, annunciation to the shepherds or presentation in the Temple, and does not give the name of the angel that appeared to Joseph to foretell the birth.',\n",
              " 'In Luke there is no mention of Magi, no flight into Egypt, or Massacre of the Innocents, and the angel who announces the coming birth to Mary is named (as Gabriel).[1]',\n",
              " 'The consensus of scholars is that both gospels were written about AD 75-85,[2] and while it is possible that one account might be based on the other, or that the two share common source material, the majority conclusion is that, in respect of the nativity story, the two are independent of each other.[1]',\n",
              " 'In Christian theology the nativity marks the birth of Jesus in fulfillment of the divine will of God, to save the world from sin.',\n",
              " 'The artistic depiction of the nativity has been an important subject for Christian artists since the 4th century.',\n",
              " 'Since the 13th century, the nativity scene has emphasized the humility of Jesus and promoted a more tender image of him, as a major turning point from the early \"Lord and Master\" image, mirroring changes in the common approaches taken by Christian pastoral ministry.[3][4][5]',\n",
              " 'The nativity plays a major role in the Christian liturgical year.',\n",
              " 'Christian congregations of the Western tradition (including the Catholic Church, the Western Rite Orthodox, the Anglican Communion, and many Protestants) begin observing the season of Advent four Sundays before Christmas, the traditional feast-day of his birth, which falls on December 25.',\n",
              " 'Christians of the Eastern Orthodox Church and Oriental Orthodox Church observe a similar season, sometimes called Advent but also called the \"Nativity Fast\", which begins forty days before Christmas.',\n",
              " 'Some Eastern Orthodox Christians (e.g. Greeks and Syrians) celebrate Christmas on December 25.',\n",
              " 'Other Orthodox (e.g. Copts, Ethiopians, Georgians, and Russians) celebrate Christmas on (the Gregorian) January 7 (Koiak 29 on coptic calendar)[6] as a result of their churches continuing to follow the Julian calendar, rather than the modern day Gregorian calendar.']"
            ]
          },
          "metadata": {
            "tags": []
          },
          "execution_count": 83
        }
      ]
    },
    {
      "cell_type": "code",
      "metadata": {
        "id": "BIxeFj0891Di",
        "colab_type": "code",
        "colab": {}
      },
      "source": [
        "# list all sentences\n",
        "all_sentences = split_sentences(docx)"
      ],
      "execution_count": 0,
      "outputs": []
    },
    {
      "cell_type": "code",
      "metadata": {
        "id": "8RpcorH-97Ey",
        "colab_type": "code",
        "outputId": "cd852c25-be37-4d1d-b896-b6e0f2078111",
        "colab": {
          "base_uri": "https://localhost:8080/",
          "height": 34
        }
      },
      "source": [
        "mysummary in all_sentences"
      ],
      "execution_count": 85,
      "outputs": [
        {
          "output_type": "execute_result",
          "data": {
            "text/plain": [
              "True"
            ]
          },
          "metadata": {
            "tags": []
          },
          "execution_count": 85
        }
      ]
    },
    {
      "cell_type": "code",
      "metadata": {
        "id": "J7uE-jha98i6",
        "colab_type": "code",
        "outputId": "dc43e7b9-8678-4606-d1e2-05ab8124c91c",
        "colab": {
          "base_uri": "https://localhost:8080/",
          "height": 34
        }
      },
      "source": [
        "# Index of summarized text\n",
        "all_sentences.index(mysummary)"
      ],
      "execution_count": 87,
      "outputs": [
        {
          "output_type": "execute_result",
          "data": {
            "text/plain": [
              "8"
            ]
          },
          "metadata": {
            "tags": []
          },
          "execution_count": 87
        }
      ]
    },
    {
      "cell_type": "code",
      "metadata": {
        "id": "9YkAHQXV9-La",
        "colab_type": "code",
        "outputId": "d0c19227-5976-4b4d-8d7e-ebe9fb2c61bd",
        "colab": {
          "base_uri": "https://localhost:8080/",
          "height": 54
        }
      },
      "source": [
        "all_sentences[8]"
      ],
      "execution_count": 88,
      "outputs": [
        {
          "output_type": "execute_result",
          "data": {
            "text/plain": [
              "'Christian congregations of the Western tradition (including the Catholic Church, the Western Rite Orthodox, the Anglican Communion, and many Protestants) begin observing the season of Advent four Sundays before Christmas, the traditional feast-day of his birth, which falls on December 25.'"
            ]
          },
          "metadata": {
            "tags": []
          },
          "execution_count": 88
        }
      ]
    },
    {
      "cell_type": "code",
      "metadata": {
        "id": "3hVwtHar-AGi",
        "colab_type": "code",
        "colab": {}
      },
      "source": [
        ""
      ],
      "execution_count": 0,
      "outputs": []
    }
  ]
}