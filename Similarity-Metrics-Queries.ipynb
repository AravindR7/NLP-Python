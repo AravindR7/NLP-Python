{
 "cells": [
  {
   "cell_type": "markdown",
   "metadata": {},
   "source": [
    "# Similarity metrics"
   ]
  },
  {
   "cell_type": "code",
   "execution_count": 1,
   "metadata": {},
   "outputs": [],
   "source": [
    "from gensim.corpora import Dictionary\n",
    "from gensim.models import ldamodel\n",
    "from gensim.models import TfidfModel\n",
    "import numpy\n",
    "%matplotlib inline"
   ]
  },
  {
   "cell_type": "code",
   "execution_count": 2,
   "metadata": {},
   "outputs": [],
   "source": [
    "# setting up corpus and documents we will be comparing\n",
    "texts = [['bank','river','shore','water'],\n",
    "        ['river','water','flow','fast','tree'],\n",
    "        ['bank','water','fall','flow'],\n",
    "        ['bank','bank','water','rain','river'],\n",
    "        ['river','water','mud','tree'],\n",
    "        ['money','transaction','bank','finance'],\n",
    "        ['bank','borrow','money'],\n",
    "        ['bank','finance'],\n",
    "        ['finance','money','sell','bank'],\n",
    "        ['borrow','sell'],\n",
    "        ['bank','loan','sell']]"
   ]
  },
  {
   "cell_type": "code",
   "execution_count": 3,
   "metadata": {},
   "outputs": [],
   "source": [
    "dictionary = Dictionary(texts)\n",
    "corpus = [dictionary.doc2bow(text) for text in texts] "
   ]
  },
  {
   "cell_type": "markdown",
   "metadata": {},
   "source": [
    "### Creating TF-IDF and LDA models for the following corpus will help us illustrate our distance metrics."
   ]
  },
  {
   "cell_type": "code",
   "execution_count": 4,
   "metadata": {},
   "outputs": [],
   "source": [
    "tfidf = TfidfModel(corpus)\n",
    "model = ldamodel.LdaModel(corpus, id2word=dictionary, num_topics=2)"
   ]
  },
  {
   "cell_type": "markdown",
   "metadata": {},
   "source": [
    "#### Representation of TF-IDF would have as many features as the size of the vocabulary, and an LDA model representation would have as many features as the number of topics. We will be using both these models later to compare distances."
   ]
  },
  {
   "cell_type": "code",
   "execution_count": 5,
   "metadata": {},
   "outputs": [
    {
     "data": {
      "text/plain": [
       "[(0,\n",
       "  '0.149*\"water\" + 0.148*\"bank\" + 0.135*\"river\" + 0.077*\"tree\" + 0.066*\"flow\" + 0.049*\"money\" + 0.049*\"fast\" + 0.048*\"finance\" + 0.047*\"mud\" + 0.047*\"rain\"'),\n",
       " (1,\n",
       "  '0.212*\"bank\" + 0.112*\"sell\" + 0.098*\"finance\" + 0.097*\"money\" + 0.072*\"borrow\" + 0.060*\"water\" + 0.053*\"loan\" + 0.051*\"transaction\" + 0.040*\"flow\" + 0.038*\"fall\"')]"
      ]
     },
     "execution_count": 5,
     "metadata": {},
     "output_type": "execute_result"
    }
   ],
   "source": [
    "model.show_topics()"
   ]
  },
  {
   "cell_type": "markdown",
   "metadata": {},
   "source": [
    "Let's use three documents to compare – a document to do with river banks, one to do with\n",
    "financial banks, and one that has the context of both (maybe a financial bank on the bank of\n",
    "a river?)."
   ]
  },
  {
   "cell_type": "code",
   "execution_count": 6,
   "metadata": {},
   "outputs": [],
   "source": [
    "doc_water = ['river', 'water', 'shore']\n",
    "doc_finance = ['finance', 'money', 'sell']\n",
    "doc_bank = ['finance', 'bank', 'tree', 'water']"
   ]
  },
  {
   "cell_type": "markdown",
   "metadata": {},
   "source": [
    "#### Once we have our documents, we quickly convert these into a bag of words, TF-IDF, and LdaModel representations."
   ]
  },
  {
   "cell_type": "code",
   "execution_count": 7,
   "metadata": {},
   "outputs": [],
   "source": [
    "bow_water = model.id2word.doc2bow(doc_water)\n",
    "bow_finance = model.id2word.doc2bow(doc_finance)\n",
    "bow_bank = model.id2word.doc2bow(doc_bank)\n",
    "\n",
    "lda_bow_water = model[bow_water]\n",
    "lda_bow_finance = model[bow_finance]\n",
    "lda_bow_bank = model[bow_bank]\n",
    "\n",
    "tfidf_bow_water = tfidf[bow_water]\n",
    "tfidf_bow_finance = tfidf[bow_finance]\n",
    "tfidf_bow_bank = tfidf[bow_bank]"
   ]
  },
  {
   "cell_type": "markdown",
   "metadata": {},
   "source": [
    "Let's have a look at lda_bow_water and see what it looks like:"
   ]
  },
  {
   "cell_type": "code",
   "execution_count": 8,
   "metadata": {},
   "outputs": [
    {
     "data": {
      "text/plain": [
       "[(0, 0.8510084), (1, 0.1489916)]"
      ]
     },
     "execution_count": 8,
     "metadata": {},
     "output_type": "execute_result"
    }
   ],
   "source": [
    "lda_bow_water"
   ]
  },
  {
   "cell_type": "markdown",
   "metadata": {},
   "source": [
    "This makes sense – the document contained words to do with river banks, and its\n",
    "proportion of topic_0 is 85%."
   ]
  },
  {
   "cell_type": "code",
   "execution_count": 9,
   "metadata": {},
   "outputs": [
    {
     "data": {
      "text/plain": [
       "[(0, 0.14109361), (1, 0.8589064)]"
      ]
     },
     "execution_count": 9,
     "metadata": {},
     "output_type": "execute_result"
    }
   ],
   "source": [
    "# The lda_bow_finance variable should be roughly the opposite – let's test this:\n",
    "lda_bow_finance"
   ]
  },
  {
   "cell_type": "markdown",
   "metadata": {},
   "source": [
    "As we expected – the LDA representations of the two documents are quite\n",
    "different, which we could see even when we constructed the documents. This means that\n",
    "their distance would also be quite high, as they are not similar documents."
   ]
  },
  {
   "cell_type": "code",
   "execution_count": 10,
   "metadata": {},
   "outputs": [
    {
     "data": {
      "text/plain": [
       "[(0, 0.736364), (1, 0.26363602)]"
      ]
     },
     "execution_count": 10,
     "metadata": {},
     "output_type": "execute_result"
    }
   ],
   "source": [
    "lda_bow_bank"
   ]
  },
  {
   "cell_type": "markdown",
   "metadata": {},
   "source": [
    "This is a well-balanced document with respect to the topics (as expected)."
   ]
  },
  {
   "cell_type": "markdown",
   "metadata": {},
   "source": [
    "# Similarity queries"
   ]
  },
  {
   "cell_type": "code",
   "execution_count": 11,
   "metadata": {},
   "outputs": [],
   "source": [
    "from gensim import similarities"
   ]
  },
  {
   "cell_type": "markdown",
   "metadata": {},
   "source": [
    "Since we have a small corpus, we can use the MatrixSimilarity class to create our\n",
    "indexing."
   ]
  },
  {
   "cell_type": "code",
   "execution_count": 12,
   "metadata": {},
   "outputs": [],
   "source": [
    "index = similarities.MatrixSimilarity(model[corpus])"
   ]
  },
  {
   "cell_type": "markdown",
   "metadata": {},
   "source": [
    "We created our index based on the similarities created by the LDA transformation of our\n",
    "corpus. We can create the same index using TF-IDF, or even bag of words, but we can\n",
    "expect better performance when using topics. We should also keep in mind that our queries\n",
    "should be in the same input space as the representation in which we created our index."
   ]
  },
  {
   "cell_type": "code",
   "execution_count": 13,
   "metadata": {},
   "outputs": [],
   "source": [
    "# Let's use the same lda_bow_finance document and find which articles are most\n",
    " # similar.\n",
    "sims = index[lda_bow_finance]"
   ]
  },
  {
   "cell_type": "code",
   "execution_count": 14,
   "metadata": {
    "scrolled": true
   },
   "outputs": [
    {
     "name": "stdout",
     "output_type": "stream",
     "text": [
      "[(0, 0.32152134), (1, 0.25986925), (2, 0.3550473), (3, 0.29625738), (4, 0.27964425), (5, 0.99957216), (6, 0.99986553), (7, 0.99556077), (8, 0.9995367), (9, 0.9981149), (10, 0.99999887)]\n"
     ]
    }
   ],
   "source": [
    "# a list with each document and the corresponding similarity\n",
    "# values.\n",
    "print(list(enumerate(sims)))"
   ]
  },
  {
   "cell_type": "code",
   "execution_count": 15,
   "metadata": {
    "scrolled": true
   },
   "outputs": [
    {
     "name": "stdout",
     "output_type": "stream",
     "text": [
      "['bank', 'loan', 'sell'] 0.99999887\n",
      "['bank', 'borrow', 'money'] 0.99986553\n",
      "['money', 'transaction', 'bank', 'finance'] 0.99957216\n",
      "['finance', 'money', 'sell', 'bank'] 0.9995367\n",
      "['borrow', 'sell'] 0.9981149\n",
      "['bank', 'finance'] 0.99556077\n",
      "['bank', 'water', 'fall', 'flow'] 0.3550473\n",
      "['bank', 'river', 'shore', 'water'] 0.32152134\n",
      "['bank', 'bank', 'water', 'rain', 'river'] 0.29625738\n",
      "['river', 'water', 'mud', 'tree'] 0.27964425\n",
      "['river', 'water', 'flow', 'fast', 'tree'] 0.25986925\n"
     ]
    }
   ],
   "source": [
    "# Let's look at which documents were actually picked up, and sort them according to how\n",
    "# similar they are.\n",
    "sims = sorted(enumerate(sims), key=lambda item: -item[1])\n",
    "for doc_id, similarity in sims:\n",
    "    print(texts[doc_id], similarity)"
   ]
  },
  {
   "cell_type": "markdown",
   "metadata": {},
   "source": [
    "Our query was the LDA representation\n",
    "of a finance-related document, and the similarity query returned all finance-related\n",
    "documents as most similar while the documents to do with trees and rivers were least\n",
    "similar - just as we would expect."
   ]
  },
  {
   "cell_type": "code",
   "execution_count": null,
   "metadata": {},
   "outputs": [],
   "source": []
  }
 ],
 "metadata": {
  "kernelspec": {
   "display_name": "Python 3",
   "language": "python",
   "name": "python3"
  },
  "language_info": {
   "codemirror_mode": {
    "name": "ipython",
    "version": 3
   },
   "file_extension": ".py",
   "mimetype": "text/x-python",
   "name": "python",
   "nbconvert_exporter": "python",
   "pygments_lexer": "ipython3",
   "version": "3.7.6"
  }
 },
 "nbformat": 4,
 "nbformat_minor": 4
}
